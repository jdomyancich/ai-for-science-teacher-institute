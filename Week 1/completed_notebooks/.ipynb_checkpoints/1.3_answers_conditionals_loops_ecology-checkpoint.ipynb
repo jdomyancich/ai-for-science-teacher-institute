{
 "cells": [
  {
   "cell_type": "markdown",
   "metadata": {},
   "source": [
    "# The Power Couple: Conditionals and Loops\n",
    "\n",
    "In the realm of scientific computing, conditionals and loops are two of the most fundamental and powerful tools at our disposal. While loops allow us to automate repetitive tasks, conditionals enable our programs to make decisions, adapting their behavior based on specific criteria. Together, they form a dynamic duo that is indispensable for building robust and insightful scientific models and analyses."
   ]
  },
  {
   "cell_type": "markdown",
   "metadata": {},
   "source": [
    "## Python Conditionals: `if`, `elif`, and `else`\n",
    "\n",
    "In science, we often make decisions based on certain conditions. For example, if the temperature is below freezing, water turns to ice. If the light intensity is above a certain level, a plant might open its stomata. In programming, we can make our code \"think\" and make decisions in a similar way using conditional statements.\n",
    "\n",
    "Conditional statements allow your program to execute different blocks of code based on whether a certain condition is True or False. This is fundamental to creating dynamic and intelligent programs.\n",
    "\n",
    "Why are they valuable in scientific computing?\n",
    "\n",
    "- **Handling Variable Conditions:** Scientific phenomena are rarely constant. Conditionals allow models to respond to changing environmental factors (e.g., if temperature exceeds a threshold, then population growth slows).\n",
    "\n",
    "- **Filtering Data:** When analyzing large datasets, you often need to focus on specific subsets (e.g., if a data point is an outlier, then exclude it from the analysis).\n",
    "\n",
    "- **Implementing Rules and Constraints:** Many natural laws and experimental setups involve specific rules (e.g., if a chemical concentration reaches zero, then the reaction stops).\n",
    "\n",
    "- **Error Checking and Validation:** Ensuring data integrity or model stability (e.g., if input data is negative, then alert the user).\n",
    "\n",
    "\n",
    "Let's explore the core conditional statements in Python: `if`, `elif`, and `else`."
   ]
  },
  {
   "cell_type": "markdown",
   "metadata": {},
   "source": [
    "#### The `if` statement: Doing something \"if\" a condition is met\n",
    "The `if` statement is the most basic conditional statement. It checks if a condition is `True`, and if it is, it executes a block of code. If the condition is `False`, the code block is skipped:"
   ]
  },
  {
   "cell_type": "code",
   "execution_count": null,
   "metadata": {},
   "outputs": [],
   "source": [
    "current_temperature_celsius = 28\n",
    "\n",
    "if current_temperature_celsius > 25:      # Notice colon after 'if' statement\n",
    "    print(\"It's a hot day! Stay hydrated.\")"
   ]
  },
  {
   "cell_type": "markdown",
   "metadata": {},
   "source": [
    "The code block to be executed must be indented. Indentation is crucial in Python to define code blocks. Typically, 4 spaces or a `tab` are used for indentation."
   ]
  },
  {
   "cell_type": "code",
   "execution_count": null,
   "metadata": {},
   "outputs": [],
   "source": [
    "from IPython.lib.display import YouTubeVideo\n",
    "YouTubeVideo('oRva7UxGQDw')"
   ]
  },
  {
   "cell_type": "markdown",
   "metadata": {},
   "source": [
    "#### The `else` statement: What to do \"otherwise\"\n",
    "\n",
    "The else statement works in conjunction with an if statement. It provides an alternative block of code to execute when the if condition is False."
   ]
  },
  {
   "cell_type": "code",
   "execution_count": null,
   "metadata": {},
   "outputs": [],
   "source": [
    "current_temperature_celsius = 20\n",
    "\n",
    "if current_temperature_celsius > 25:\n",
    "    print(\"It's a hot day! Stay hydrated.\")\n",
    "else:\n",
    "    print(\"The temperature is comfortable today.\")"
   ]
  },
  {
   "cell_type": "markdown",
   "metadata": {},
   "source": [
    "#### The `elif` statement: Checking multiple conditions\n",
    "\n",
    "Sometimes, you have more than two possible outcomes. This is where `elif` (short for \"else if\") comes in handy. It allows you to check multiple conditions sequentially. If an if condition is False, Python moves to the next elif. If that's also False, it moves to the next elif, and so on. If none of the if or elif conditions are True, the else block (if present) will be executed."
   ]
  },
  {
   "cell_type": "code",
   "execution_count": null,
   "metadata": {},
   "outputs": [],
   "source": [
    "current_temperature_celsius = 15\n",
    "\n",
    "if current_temperature_celsius >= 30:\n",
    "    print(\"It's extremely hot!\")\n",
    "elif current_temperature_celsius >= 20: # This only runs if the first condition (>=30) was False\n",
    "    print(\"It's warm.\")\n",
    "elif current_temperature_celsius >= 10: # This only runs if the first two conditions were False\n",
    "    print(\"It's cool.\")\n",
    "else: # This runs if none of the above conditions were True\n",
    "    print(\"It's cold!\")\n"
   ]
  },
  {
   "cell_type": "markdown",
   "metadata": {},
   "source": [
    "___\n",
    "## 💪 **Exercise** 💪\n",
    "\n",
    "Imagine you're working with data from an ocean buoy that measures water salinity. You want to classify the water as \"Freshwater,\" \"Brackish Water,\" or \"Saltwater\" based on its salinity levels.\n",
    "\n",
    "Freshwater: Salinity <0.5 PSU (Practical Salinity Units)\n",
    "\n",
    "Brackish Water: Salinity ≥0.5 PSU AND <30 PSU\n",
    "\n",
    "Saltwater: Salinity ≥30 PSU\n",
    "\n",
    "Write a Python code block using `if`, `elif`, and `else` to categorize a given `salinity_psu` value.\n",
    "___\n"
   ]
  },
  {
   "cell_type": "code",
   "execution_count": 1,
   "metadata": {},
   "outputs": [
    {
     "name": "stdout",
     "output_type": "stream",
     "text": [
      "brackish\n"
     ]
    }
   ],
   "source": [
    "salinity_psu = 2\n",
    "\n",
    "if salinity_psu < 0.5:\n",
    "    print(\"freshwater\")\n",
    "elif salinity_psu >= 30:\n",
    "    print(\"saltwater\")\n",
    "else:\n",
    "    print(\"brackish\")"
   ]
  },
  {
   "attachments": {},
   "cell_type": "markdown",
   "metadata": {
    "tags": []
   },
   "source": [
    "## Loops: The Power of Repetition\n",
    "\n",
    "In programming, a loop is a fundamental control structure that allows you to execute a block of code repeatedly. Imagine you have a task that needs to be performed many times, perhaps with slight variations each time. Instead of writing out the same lines of code over and over, loops provide an elegant and efficient way to automate this repetition.\n",
    "\n",
    "Why are they valuable in scientific computing?\n",
    "\n",
    "- **Time-Series Simulations:** Modeling how systems evolve over discrete time steps (e.g., simulating climate change year by year, population dynamics generation by generation).\n",
    "\n",
    "- **Iterative Calculations:** Many scientific algorithms require repeated calculations to converge on a solution (e.g., numerical methods for solving equations, optimization routines).\n",
    "\n",
    "- **Data Processing:** Applying the same operation to every element in a dataset (e.g., normalizing sensor readings, calculating averages for different experimental trials).\n",
    "\n",
    "- **Experimentation and Parameter Sweeps:** Running a model multiple times with different input parameters to understand its behavior across a range of conditions.\n",
    "\n",
    "Without loops, these tasks would be incredibly tedious and prone to error. Loops make your code concise and efficient.\n",
    "\n",
    "Python offers two main types of loops: `for` loops and `while` loops:"
   ]
  },
  {
   "cell_type": "markdown",
   "metadata": {},
   "source": [
    "### `for` loops\n",
    "\n",
    "These are used when you know, or can determine, the number of times you want to iterate, or when you want to iterate over a collection of items (like a list, string, or range of numbers)."
   ]
  },
  {
   "cell_type": "code",
   "execution_count": 5,
   "metadata": {},
   "outputs": [
    {
     "name": "stdout",
     "output_type": "stream",
     "text": [
      "eggs\n",
      "milk\n",
      "bread\n"
     ]
    }
   ],
   "source": [
    "groceries = ['eggs', 'milk', 'bread']\n",
    "\n",
    "for i in groceries:\n",
    "    print(i)"
   ]
  },
  {
   "cell_type": "markdown",
   "metadata": {},
   "source": [
    "- In a `for` loop like this, `i` is a **\"loop variable\"** (or iteration variable). It's a temporary variable that takes on the value of each item in the sequence you are iterating over, one by one, during each pass of the loop.\n",
    "\n",
    "- The `in` keyword is a Python operator that checks for membership. In the context of a `for` loop, it signifies that you want to iterate through the items in the list provided (in this case, the `groceries` list)."
   ]
  },
  {
   "cell_type": "markdown",
   "metadata": {},
   "source": [
    "It is very common for the `range()` fuction to be used in `for` loops:"
   ]
  },
  {
   "cell_type": "code",
   "execution_count": 6,
   "metadata": {},
   "outputs": [
    {
     "name": "stdout",
     "output_type": "stream",
     "text": [
      "0\n",
      "1\n",
      "2\n",
      "3\n",
      "4\n"
     ]
    }
   ],
   "source": [
    "for i in range(5):\n",
    "    print(i)"
   ]
  },
  {
   "cell_type": "markdown",
   "metadata": {},
   "source": [
    "### Modeling Ecological Change Over Time\n",
    "\n",
    "For modeling ecological change over time, `for` loops are particularly well-suited because we often want to simulate changes over a fixed number of time steps (e.g., 10 years, 50 generations)."
   ]
  },
  {
   "cell_type": "code",
   "execution_count": 5,
   "metadata": {},
   "outputs": [
    {
     "name": "stdout",
     "output_type": "stream",
     "text": [
      "End of Year 1: Population = 110.00\n",
      "End of Year 2: Population = 121.00\n",
      "End of Year 3: Population = 133.10\n",
      "End of Year 4: Population = 146.41\n",
      "End of Year 5: Population = 161.05\n"
     ]
    }
   ],
   "source": [
    "# Example: Simulating Population Growth over Years\n",
    "initial_population = 100\n",
    "growth_rate = 0.1 # 10% growth per year\n",
    "num_years = 5\n",
    "\n",
    "current_population = initial_population\n",
    "\n",
    "for year in range(num_years):\n",
    "    current_population = current_population + (current_population * growth_rate)\n",
    "    print(f\"End of Year {year + 1}: Population = {current_population:.2f}\")\n"
   ]
  },
  {
   "cell_type": "markdown",
   "metadata": {},
   "source": [
    "___\n",
    "## 💪 **Exercise** 💪\n",
    "\n",
    "A radioactive isotope decays by 5% each hour. If you start with 1000 grams, use a `for` loop to calculate and print the remaining mass after each of 8 hours."
   ]
  },
  {
   "cell_type": "markdown",
   "metadata": {},
   "source": [
    "___"
   ]
  },
  {
   "cell_type": "code",
   "execution_count": 9,
   "metadata": {},
   "outputs": [
    {
     "name": "stdout",
     "output_type": "stream",
     "text": [
      "After 1 hour, 950.0 remains.\n",
      "After 2 hour, 902.5 remains.\n",
      "After 3 hour, 857.375 remains.\n",
      "After 4 hour, 814.50625 remains.\n",
      "After 5 hour, 773.7809375 remains.\n",
      "After 6 hour, 735.091890625 remains.\n",
      "After 7 hour, 698.3372960937501 remains.\n",
      "After 8 hour, 663.4204312890625 remains.\n"
     ]
    }
   ],
   "source": [
    "num_hours = 8\n",
    "mass_g = 1000\n",
    "\n",
    "for hour in range(num_hours):\n",
    "    mass_g = mass_g - (mass_g * 0.05)\n",
    "    print(f\"After {hour +1} hour, {mass_g} remains.\")   # Add 1 to 'hour' because count starts at 0"
   ]
  },
  {
   "cell_type": "markdown",
   "metadata": {},
   "source": [
    "### `while` loops \n",
    "\n",
    "These loops continue to execute as long as a certain condition is `True`. They are useful when you don't know in advance how many times the loop will run, but you have a condition that will eventually become false."
   ]
  },
  {
   "cell_type": "code",
   "execution_count": 4,
   "metadata": {},
   "outputs": [
    {
     "name": "stdout",
     "output_type": "stream",
     "text": [
      "0\n",
      "1\n",
      "2\n",
      "3\n",
      "4\n"
     ]
    }
   ],
   "source": [
    "count = 0\n",
    "\n",
    "while count < 5:\n",
    "    print(count)\n",
    "    count = count + 1 "
   ]
  },
  {
   "cell_type": "markdown",
   "metadata": {},
   "source": [
    "___\n",
    "## 💪 **Exercise** 💪\n",
    "\n",
    "Imagine a petri dish with a carrying capacity of 1,000,000 bacteria. We start with an initial population of 100 bacteria. Each hour, the population doubles.\n",
    "\n",
    "We want to know how many hours it takes for the population to reach at least 90% of the carrying capacity? "
   ]
  },
  {
   "cell_type": "code",
   "execution_count": 11,
   "metadata": {},
   "outputs": [
    {
     "name": "stdout",
     "output_type": "stream",
     "text": [
      "14\n"
     ]
    }
   ],
   "source": [
    "current_population = 100\n",
    "hours = 0\n",
    "carrying_capacity = 1000000\n",
    "target_population = 0.90 * carrying_capacity\n",
    "\n",
    "while current_population < target_population:\n",
    "    current_population = current_population * 2 \n",
    "    hours = hours + 1\n",
    "\n",
    "print(hours)"
   ]
  },
  {
   "cell_type": "markdown",
   "metadata": {},
   "source": [
    "## 📓 Reflection 📓\n",
    "\n",
    "In which specific units or topics within your science curriculum (e.g., biology, environmental science, physics, chemistry) could you envision integrating a similar computational modeling activity using loops?"
   ]
  },
  {
   "cell_type": "markdown",
   "metadata": {},
   "source": []
  },
  {
   "cell_type": "markdown",
   "metadata": {},
   "source": [
    "How does introducing coding and computational modeling like this shift the traditional way you might teach concepts of change over time (e.g., population dynamics, disease spread, physical processes)? What are the benefits and potential challenges of this shift for both you and your students?"
   ]
  },
  {
   "cell_type": "markdown",
   "metadata": {},
   "source": []
  }
 ],
 "metadata": {
  "kernelspec": {
   "display_name": "Python 3 (ipykernel)",
   "language": "python",
   "name": "python3"
  },
  "language_info": {
   "codemirror_mode": {
    "name": "ipython",
    "version": 3
   },
   "file_extension": ".py",
   "mimetype": "text/x-python",
   "name": "python",
   "nbconvert_exporter": "python",
   "pygments_lexer": "ipython3",
   "version": "3.9.12"
  }
 },
 "nbformat": 4,
 "nbformat_minor": 4
}

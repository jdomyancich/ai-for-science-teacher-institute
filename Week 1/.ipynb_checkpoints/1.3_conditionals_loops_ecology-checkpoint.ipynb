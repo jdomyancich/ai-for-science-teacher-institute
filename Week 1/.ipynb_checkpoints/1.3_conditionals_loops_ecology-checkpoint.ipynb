{
 "cells": [
  {
   "cell_type": "markdown",
   "metadata": {},
   "source": [
    "# The Power Couple: Conditionals and Loops\n",
    "\n",
    "In the realm of scientific computing, conditionals and loops are two of the most fundamental and powerful tools at our disposal. While loops allow us to automate repetitive tasks, conditionals enable our programs to make decisions, adapting their behavior based on specific criteria. Together, they form a dynamic duo that is indispensable for building robust and insightful scientific models and analyses."
   ]
  },
  {
   "cell_type": "markdown",
   "metadata": {},
   "source": [
    "## Python Conditionals: `if`, `elif`, and `else`\n",
    "\n",
    "In science, we often make decisions based on certain conditions. For example, if the temperature is below freezing, water turns to ice. If the light intensity is above a certain level, a plant might open its stomata. In programming, we can make our code \"think\" and make decisions in a similar way using conditional statements.\n",
    "\n",
    "Conditional statements allow your program to execute different blocks of code based on whether a certain condition is True or False. This is fundamental to creating dynamic and intelligent programs.\n",
    "\n",
    "Why are they valuable in scientific computing?\n",
    "\n",
    "- **Handling Variable Conditions:** Scientific phenomena are rarely constant. Conditionals allow models to respond to changing environmental factors (e.g., if temperature exceeds a threshold, then population growth slows).\n",
    "\n",
    "- **Filtering Data:** When analyzing large datasets, you often need to focus on specific subsets (e.g., if a data point is an outlier, then exclude it from the analysis).\n",
    "\n",
    "- **Implementing Rules and Constraints:** Many natural laws and experimental setups involve specific rules (e.g., if a chemical concentration reaches zero, then the reaction stops).\n",
    "\n",
    "- **Error Checking and Validation:** Ensuring data integrity or model stability (e.g., if input data is negative, then alert the user).\n",
    "\n",
    "\n",
    "Let's explore the core conditional statements in Python: `if`, `elif`, and `else`."
   ]
  },
  {
   "cell_type": "markdown",
   "metadata": {},
   "source": [
    "#### The `if` statement: Doing something \"if\" a condition is met\n",
    "The `if` statement is the most basic conditional statement. It checks if a condition is `True`, and if it is, it executes a block of code. If the condition is `False`, the code block is skipped:"
   ]
  },
  {
   "cell_type": "code",
   "execution_count": null,
   "metadata": {},
   "outputs": [],
   "source": [
    "current_temperature_celsius = 28\n",
    "\n",
    "# ADD CODE HERE"
   ]
  },
  {
   "cell_type": "markdown",
   "metadata": {},
   "source": [
    "The code block to be executed must be indented. Indentation is crucial in Python to define code blocks. Typically, 4 spaces or a `tab` are used for indentation."
   ]
  },
  {
   "cell_type": "code",
   "execution_count": null,
   "metadata": {},
   "outputs": [],
   "source": [
    "from IPython.lib.display import YouTubeVideo\n",
    "YouTubeVideo('oRva7UxGQDw')"
   ]
  },
  {
   "cell_type": "markdown",
   "metadata": {},
   "source": [
    "#### The `else` statement: What to do \"otherwise\"\n",
    "\n",
    "The else statement works in conjunction with an if statement. It provides an alternative block of code to execute when the if condition is False."
   ]
  },
  {
   "cell_type": "code",
   "execution_count": null,
   "metadata": {},
   "outputs": [],
   "source": [
    "current_temperature_celsius = 20\n",
    "\n",
    "# ADD CODE HERE"
   ]
  },
  {
   "cell_type": "markdown",
   "metadata": {},
   "source": [
    "#### The `elif` statement: Checking multiple conditions\n",
    "\n",
    "Sometimes, you have more than two possible outcomes. This is where `elif` (short for \"else if\") comes in handy. It allows you to check multiple conditions sequentially. If an if condition is False, Python moves to the next elif. If that's also False, it moves to the next elif, and so on. If none of the if or elif conditions are True, the else block (if present) will be executed."
   ]
  },
  {
   "cell_type": "code",
   "execution_count": null,
   "metadata": {},
   "outputs": [],
   "source": [
    "current_temperature_celsius = 15\n",
    "\n",
    "# ADD CODE HERE"
   ]
  },
  {
   "cell_type": "markdown",
   "metadata": {},
   "source": [
    "___\n",
    "## 💪 **Exercise** 💪\n",
    "\n",
    "Imagine you're working with data from an ocean buoy that measures water salinity. You want to classify the water as \"Freshwater,\" \"Brackish Water,\" or \"Saltwater\" based on its salinity levels.\n",
    "\n",
    "Freshwater: Salinity <0.5 PSU (Practical Salinity Units)\n",
    "\n",
    "Brackish Water: Salinity ≥0.5 PSU AND <30 PSU\n",
    "\n",
    "Saltwater: Salinity ≥30 PSU\n",
    "\n",
    "Write a Python code block using `if`, `elif`, and `else` to categorize a given `salinity_psu` value.\n",
    "___\n"
   ]
  },
  {
   "cell_type": "code",
   "execution_count": null,
   "metadata": {},
   "outputs": [],
   "source": []
  },
  {
   "attachments": {},
   "cell_type": "markdown",
   "metadata": {
    "tags": []
   },
   "source": [
    "## Loops: The Power of Repetition\n",
    "\n",
    "In programming, a loop is a fundamental control structure that allows you to execute a block of code repeatedly. Imagine you have a task that needs to be performed many times, perhaps with slight variations each time. Instead of writing out the same lines of code over and over, loops provide an elegant and efficient way to automate this repetition.\n",
    "\n",
    "Why are they valuable in scientific computing?\n",
    "\n",
    "- **Time-Series Simulations:** Modeling how systems evolve over discrete time steps (e.g., simulating climate change year by year, population dynamics generation by generation).\n",
    "\n",
    "- **Iterative Calculations:** Many scientific algorithms require repeated calculations to converge on a solution (e.g., numerical methods for solving equations, optimization routines).\n",
    "\n",
    "- **Data Processing:** Applying the same operation to every element in a dataset (e.g., normalizing sensor readings, calculating averages for different experimental trials).\n",
    "\n",
    "- **Experimentation and Parameter Sweeps:** Running a model multiple times with different input parameters to understand its behavior across a range of conditions.\n",
    "\n",
    "Without loops, these tasks would be incredibly tedious and prone to error. Loops make your code concise and efficient.\n",
    "\n",
    "Python offers two main types of loops: `for` loops and `while` loops:"
   ]
  },
  {
   "cell_type": "markdown",
   "metadata": {},
   "source": [
    "### `for` loops\n",
    "\n",
    "These are used when you know, or can determine, the number of times you want to iterate, or when you want to iterate over a collection of items (like a list, string, or range of numbers)."
   ]
  },
  {
   "cell_type": "code",
   "execution_count": null,
   "metadata": {},
   "outputs": [],
   "source": [
    "groceries = ['eggs', 'milk', 'bread']\n",
    "\n",
    "# ADD COSE HERE"
   ]
  },
  {
   "cell_type": "markdown",
   "metadata": {},
   "source": [
    "- In a `for` loop like this, `i` is a **\"loop variable\"** (or iteration variable). It's a temporary variable that takes on the value of each item in the sequence you are iterating over, one by one, during each pass of the loop.\n",
    "\n",
    "- The `in` keyword is a Python operator that checks for membership. In the context of a `for` loop, it signifies that you want to iterate through the items in the list provided (in this case, the `groceries` list)."
   ]
  },
  {
   "cell_type": "markdown",
   "metadata": {},
   "source": [
    "It is very common for the `range()` fuction to be used in `for` loops:"
   ]
  },
  {
   "cell_type": "code",
   "execution_count": null,
   "metadata": {},
   "outputs": [],
   "source": []
  },
  {
   "cell_type": "markdown",
   "metadata": {},
   "source": [
    "### Modeling Ecological Change Over Time\n",
    "\n",
    "For modeling ecological change over time, `for` loops are particularly well-suited because we often want to simulate changes over a fixed number of time steps (e.g., 10 years, 50 generations)."
   ]
  },
  {
   "cell_type": "code",
   "execution_count": null,
   "metadata": {},
   "outputs": [],
   "source": [
    "# Example: Simulating Population Growth over Years\n",
    "initial_population = 100\n",
    "growth_rate = 0.1    # 10% growth per year\n",
    "num_years = 5\n",
    "\n",
    "current_population = initial_population\n",
    "\n",
    "# ADD CODE HERE"
   ]
  },
  {
   "cell_type": "markdown",
   "metadata": {},
   "source": [
    "___\n",
    "## 💪 **Exercise** 💪\n",
    "\n",
    "A radioactive isotope decays by 5% each hour. If you start with 1000 grams, use a `for` loop to calculate and print the remaining mass after each of 8 hours."
   ]
  },
  {
   "cell_type": "markdown",
   "metadata": {},
   "source": [
    "___"
   ]
  },
  {
   "cell_type": "code",
   "execution_count": null,
   "metadata": {},
   "outputs": [],
   "source": []
  },
  {
   "cell_type": "markdown",
   "metadata": {},
   "source": [
    "### `while` loops \n",
    "\n",
    "These loops continue to execute as long as a certain condition is `True`. They are useful when you don't know in advance how many times the loop will run, but you have a condition that will eventually become false."
   ]
  },
  {
   "cell_type": "code",
   "execution_count": null,
   "metadata": {},
   "outputs": [],
   "source": [
    "count = 0\n",
    "\n",
    "# ADD CODE HERE"
   ]
  },
  {
   "cell_type": "markdown",
   "metadata": {},
   "source": [
    "___\n",
    "## 💪 **Exercise** 💪\n",
    "\n",
    "Imagine a petri dish with a carrying capacity of 1,000,000 bacteria. We start with an initial population of 100 bacteria. Each hour, the population doubles.\n",
    "\n",
    "We want to know how many hours it takes for the population to reach at least 90% of the carrying capacity? "
   ]
  },
  {
   "cell_type": "code",
   "execution_count": null,
   "metadata": {},
   "outputs": [],
   "source": []
  },
  {
   "cell_type": "markdown",
   "metadata": {},
   "source": [
    "## 📓 Reflection 📓\n",
    "\n",
    "In which specific units or topics within your science curriculum (e.g., biology, environmental science, physics, chemistry) could you envision integrating a similar computational modeling activity using loops?"
   ]
  },
  {
   "cell_type": "markdown",
   "metadata": {},
   "source": []
  },
  {
   "cell_type": "markdown",
   "metadata": {},
   "source": [
    "How does introducing coding and computational modeling like this shift the traditional way you might teach concepts of change over time (e.g., population dynamics, disease spread, physical processes)? What are the benefits and potential challenges of this shift for both you and your students?"
   ]
  },
  {
   "cell_type": "markdown",
   "metadata": {},
   "source": []
  }
 ],
 "metadata": {
  "kernelspec": {
   "display_name": "Python 3 (ipykernel)",
   "language": "python",
   "name": "python3"
  },
  "language_info": {
   "codemirror_mode": {
    "name": "ipython",
    "version": 3
   },
   "file_extension": ".py",
   "mimetype": "text/x-python",
   "name": "python",
   "nbconvert_exporter": "python",
   "pygments_lexer": "ipython3",
   "version": "3.9.12"
  }
 },
 "nbformat": 4,
 "nbformat_minor": 4
}

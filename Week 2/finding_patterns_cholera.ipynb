{
 "cells": [
  {
   "cell_type": "markdown",
   "id": "9a200365-facc-4388-a1cb-c70348334c4b",
   "metadata": {},
   "source": [
    "# Finding Interesting Patterns in Data\n",
    "\n",
    "Finding the origins of cholera's spread was a contentious issue in the 1800s. Before even seeing the problem in the data, the people of that time could see cholera **all around them**. As friends and relatives grew gravely ill, it became urgent to discover **why** this was happening in hopes of putting a stop to it. \n",
    "\n",
    "People, including the local media, had different ideas about what could be causing cholera. For instance, take a look at the following political cartoon of the time: \n",
    "<br>\n",
    "\n",
    "<table><tr>\n",
    "    <td> <img src=\"imgs/king_cholera.png\" alt=\"Drawing\" style=\"width: 600px;\"/> </td>\n",
    "</tr></table>\n",
    "\n",
    "<br>"
   ]
  },
  {
   "cell_type": "code",
   "execution_count": null,
   "id": "06da79de-6657-4e0d-91e5-59e627d7ce79",
   "metadata": {},
   "outputs": [],
   "source": [
    "# Import necessary libraries\n",
    "\n",
    "import pandas as pd\n",
    "import matplotlib.pyplot as plt"
   ]
  },
  {
   "cell_type": "markdown",
   "id": "ac699500-7c9e-4015-9199-fa3ba013a34f",
   "metadata": {},
   "source": [
    "19th Century London was divided into districts, much like Chicago is divided into neighborhoods. These districts were grouped by region, just like Chicago (South Side, North Side, West side, Far South Side, etc.). There were 5 regions in 19th Century London: North, South, East, West and Central.\n",
    "\n",
    "<br>\n",
    "\n",
    "<img src=\"https://i2.wp.com/londontopia.net/wp-content/uploads/2014/08/london-county.jpg\" width=600>\n",
    "\n",
    "To begin, let's look at some data about a particulary bad cholera outbreak in London in 1849. Demographic data and data about the outbreak are contained in the `outbreak_of_1849.csv` file in the `data` folder."
   ]
  },
  {
   "cell_type": "code",
   "execution_count": null,
   "id": "0abb6528-c5e6-41eb-89d5-18bbfa05b450",
   "metadata": {},
   "outputs": [],
   "source": [
    "outbreak = pd.read_csv(\"data/outbreak_of_1849.csv\")\n",
    "outbreak.head()"
   ]
  },
  {
   "cell_type": "markdown",
   "id": "54c3ff4f-aa4f-49ac-a33f-a71c2f01ac56",
   "metadata": {},
   "source": [
    "We will use mortality rate as our **outcome variable**:\n",
    "\n",
    "This is done with the following calculation:\n",
    "$$death \\ rate = {deaths \\over population} \\times 1000$$\n",
    "\n",
    "Make a new column of data called `deaths_per_1000` that includes the mortality rate of each district."
   ]
  },
  {
   "cell_type": "code",
   "execution_count": null,
   "id": "56f0ce55-550c-421d-805e-519977d7a921",
   "metadata": {},
   "outputs": [],
   "source": []
  },
  {
   "attachments": {},
   "cell_type": "markdown",
   "id": "6fa1db32-b99e-4cf2-adbd-73721570c904",
   "metadata": {},
   "source": [
    "While there should be only one outcome variable, there can be multiple **explanatory variables**.\n",
    "\n",
    "Our job now is to explore explanatory variables that could potentially explain differences in mortality rate among the different disctricts. "
   ]
  },
  {
   "cell_type": "markdown",
   "id": "fca4cce5-6ab8-4d2c-926b-a8f3f3d89bab",
   "metadata": {},
   "source": [
    "### Is there a relationship between mortality and where people live?\n",
    "\n",
    "Use the `groupby()` function to average the mortality rates for each `region` of London."
   ]
  },
  {
   "cell_type": "code",
   "execution_count": null,
   "id": "0bfe9808-61b8-4553-a7a9-d5b2b9f6ac0c",
   "metadata": {},
   "outputs": [],
   "source": []
  },
  {
   "cell_type": "markdown",
   "id": "91f25c32",
   "metadata": {},
   "source": [
    "## Using Scatter Plots to Find Relationships\n",
    "\n",
    "Scatter plots are especially useful in enabling people to study the relationship between an outcome variable and an explanatory variable.\n",
    "\n",
    "**Make a scatter plot showing the relationship between a potential explanatory variable and the mortality rate.**"
   ]
  },
  {
   "cell_type": "code",
   "execution_count": null,
   "id": "ce778dae",
   "metadata": {},
   "outputs": [],
   "source": []
  },
  {
   "cell_type": "markdown",
   "id": "2d99cb7e",
   "metadata": {},
   "source": [
    "### Continue Exploring\n",
    "\n",
    "Generate additional scatter plots for other explanatory variables or use the `.groupby()` function to compare groups.\n",
    "\n",
    "**Challenge Yourself: Develop new explanatory variables from the data you have.**"
   ]
  },
  {
   "cell_type": "code",
   "execution_count": null,
   "id": "5066c27e",
   "metadata": {},
   "outputs": [],
   "source": []
  },
  {
   "cell_type": "markdown",
   "id": "21371710-fe02-415a-879f-d40ccdfa4b1d",
   "metadata": {},
   "source": [
    "## 📓 Reflection 📓\n",
    "\n",
    "Did you notice any interesting or unexpected patterns in the data? What do you think they suggest, if anything?"
   ]
  },
  {
   "cell_type": "code",
   "execution_count": null,
   "id": "6014298d-992c-44bf-a5e0-387b3e391255",
   "metadata": {},
   "outputs": [],
   "source": []
  }
 ],
 "metadata": {
  "kernelspec": {
   "display_name": "Python 3 (ipykernel)",
   "language": "python",
   "name": "python3"
  },
  "language_info": {
   "codemirror_mode": {
    "name": "ipython",
    "version": 3
   },
   "file_extension": ".py",
   "mimetype": "text/x-python",
   "name": "python",
   "nbconvert_exporter": "python",
   "pygments_lexer": "ipython3",
   "version": "3.9.12"
  }
 },
 "nbformat": 4,
 "nbformat_minor": 5
}

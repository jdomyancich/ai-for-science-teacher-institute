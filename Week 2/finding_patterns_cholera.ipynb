{
 "cells": [
  {
   "cell_type": "markdown",
   "id": "9a200365-facc-4388-a1cb-c70348334c4b",
   "metadata": {},
   "source": [
    "# Finding Interesting Patterns in Data\n",
    "\n",
    "Finding the origins of cholera's spread was a contentious issue in the 1800s. Before even seeing the problem in the data, the people of that time could see cholera **all around them**. As friends and relatives grew gravely ill, it became urgent to discover **why** this was happening in hopes of putting a stop to it. \n",
    "\n",
    "People, including the local media, had different ideas about what could be causing cholera. For instance, take a look at the following political cartoon of the time: \n",
    "<br>\n",
    "\n",
    "<table><tr>\n",
    "    <td> <img src=\"imgs/king_cholera.png\" alt=\"Drawing\" style=\"width: 600px;\"/> </td>\n",
    "</tr></table>\n",
    "\n",
    "<br>"
   ]
  },
  {
   "cell_type": "code",
   "execution_count": 9,
   "id": "06da79de-6657-4e0d-91e5-59e627d7ce79",
   "metadata": {},
   "outputs": [],
   "source": [
    "# Import necessary libraries\n",
    "\n",
    "import pandas as pd\n",
    "import matplotlib.pyplot as plt"
   ]
  },
  {
   "cell_type": "markdown",
   "id": "ac699500-7c9e-4015-9199-fa3ba013a34f",
   "metadata": {},
   "source": [
    "19th Century London was divided into districts, much like Chicago is divided into neighborhoods. These districts were grouped by region, just like Chicago (South Side, North Side, West side, Far South Side, etc.). There were 5 regions in 19th Century London: North, South, East, West and Central.\n",
    "\n",
    "<br>\n",
    "\n",
    "<img src=\"https://i2.wp.com/londontopia.net/wp-content/uploads/2014/08/london-county.jpg\" width=600>\n",
    "\n",
    "To begin, let's look at some data about a particulary bad cholera outbreak in London in 1849. Demographic data and data about the outbreak are contained in the `outbreak_of_1849.csv` file in the `data` folder."
   ]
  },
  {
   "cell_type": "code",
   "execution_count": 10,
   "id": "0abb6528-c5e6-41eb-89d5-18bbfa05b450",
   "metadata": {},
   "outputs": [
    {
     "data": {
      "text/html": [
       "<div>\n",
       "<style scoped>\n",
       "    .dataframe tbody tr th:only-of-type {\n",
       "        vertical-align: middle;\n",
       "    }\n",
       "\n",
       "    .dataframe tbody tr th {\n",
       "        vertical-align: top;\n",
       "    }\n",
       "\n",
       "    .dataframe thead th {\n",
       "        text-align: right;\n",
       "    }\n",
       "</style>\n",
       "<table border=\"1\" class=\"dataframe\">\n",
       "  <thead>\n",
       "    <tr style=\"text-align: right;\">\n",
       "      <th></th>\n",
       "      <th>district</th>\n",
       "      <th>region</th>\n",
       "      <th>population</th>\n",
       "      <th>area</th>\n",
       "      <th>elevation</th>\n",
       "      <th>number_houses</th>\n",
       "      <th>house_value_average</th>\n",
       "      <th>deaths</th>\n",
       "    </tr>\n",
       "  </thead>\n",
       "  <tbody>\n",
       "    <tr>\n",
       "      <th>0</th>\n",
       "      <td>Bermondsey</td>\n",
       "      <td>South</td>\n",
       "      <td>48128</td>\n",
       "      <td>688</td>\n",
       "      <td>0</td>\n",
       "      <td>5674</td>\n",
       "      <td>18</td>\n",
       "      <td>734</td>\n",
       "    </tr>\n",
       "    <tr>\n",
       "      <th>1</th>\n",
       "      <td>Bethnal Green</td>\n",
       "      <td>East</td>\n",
       "      <td>90193</td>\n",
       "      <td>760</td>\n",
       "      <td>38</td>\n",
       "      <td>11782</td>\n",
       "      <td>9</td>\n",
       "      <td>789</td>\n",
       "    </tr>\n",
       "    <tr>\n",
       "      <th>2</th>\n",
       "      <td>Camberwell</td>\n",
       "      <td>South</td>\n",
       "      <td>54667</td>\n",
       "      <td>4342</td>\n",
       "      <td>4</td>\n",
       "      <td>6843</td>\n",
       "      <td>25</td>\n",
       "      <td>504</td>\n",
       "    </tr>\n",
       "    <tr>\n",
       "      <th>3</th>\n",
       "      <td>Chelsea</td>\n",
       "      <td>West</td>\n",
       "      <td>56538</td>\n",
       "      <td>865</td>\n",
       "      <td>12</td>\n",
       "      <td>5648</td>\n",
       "      <td>29</td>\n",
       "      <td>247</td>\n",
       "    </tr>\n",
       "    <tr>\n",
       "      <th>4</th>\n",
       "      <td>City of London</td>\n",
       "      <td>Central</td>\n",
       "      <td>55932</td>\n",
       "      <td>434</td>\n",
       "      <td>31</td>\n",
       "      <td>7921</td>\n",
       "      <td>117</td>\n",
       "      <td>207</td>\n",
       "    </tr>\n",
       "  </tbody>\n",
       "</table>\n",
       "</div>"
      ],
      "text/plain": [
       "         district   region  population  area  elevation  number_houses  \\\n",
       "0      Bermondsey    South       48128   688          0           5674   \n",
       "1   Bethnal Green     East       90193   760         38          11782   \n",
       "2      Camberwell    South       54667  4342          4           6843   \n",
       "3         Chelsea     West       56538   865         12           5648   \n",
       "4  City of London  Central       55932   434         31           7921   \n",
       "\n",
       "   house_value_average  deaths  \n",
       "0                   18     734  \n",
       "1                    9     789  \n",
       "2                   25     504  \n",
       "3                   29     247  \n",
       "4                  117     207  "
      ]
     },
     "execution_count": 10,
     "metadata": {},
     "output_type": "execute_result"
    }
   ],
   "source": [
    "outbreak = pd.read_csv(\"data/outbreak_of_1849.csv\")\n",
    "outbreak.head()"
   ]
  },
  {
   "cell_type": "markdown",
   "id": "54c3ff4f-aa4f-49ac-a33f-a71c2f01ac56",
   "metadata": {},
   "source": [
    "We will use mortality rate as our **outcome variable**:\n",
    "\n",
    "This is done with the following calculation:\n",
    "$$death \\ rate = {deaths \\over population} \\times 1000$$\n",
    "\n",
    "Make a new column of data called `deaths_per_1000` that includes the mortality rate of each district."
   ]
  },
  {
   "cell_type": "code",
   "execution_count": 11,
   "id": "56f0ce55-550c-421d-805e-519977d7a921",
   "metadata": {},
   "outputs": [
    {
     "data": {
      "text/html": [
       "<div>\n",
       "<style scoped>\n",
       "    .dataframe tbody tr th:only-of-type {\n",
       "        vertical-align: middle;\n",
       "    }\n",
       "\n",
       "    .dataframe tbody tr th {\n",
       "        vertical-align: top;\n",
       "    }\n",
       "\n",
       "    .dataframe thead th {\n",
       "        text-align: right;\n",
       "    }\n",
       "</style>\n",
       "<table border=\"1\" class=\"dataframe\">\n",
       "  <thead>\n",
       "    <tr style=\"text-align: right;\">\n",
       "      <th></th>\n",
       "      <th>district</th>\n",
       "      <th>region</th>\n",
       "      <th>population</th>\n",
       "      <th>area</th>\n",
       "      <th>elevation</th>\n",
       "      <th>number_houses</th>\n",
       "      <th>house_value_average</th>\n",
       "      <th>deaths</th>\n",
       "      <th>deaths_per_1000</th>\n",
       "    </tr>\n",
       "  </thead>\n",
       "  <tbody>\n",
       "    <tr>\n",
       "      <th>0</th>\n",
       "      <td>Bermondsey</td>\n",
       "      <td>South</td>\n",
       "      <td>48128</td>\n",
       "      <td>688</td>\n",
       "      <td>0</td>\n",
       "      <td>5674</td>\n",
       "      <td>18</td>\n",
       "      <td>734</td>\n",
       "      <td>15.250997</td>\n",
       "    </tr>\n",
       "    <tr>\n",
       "      <th>1</th>\n",
       "      <td>Bethnal Green</td>\n",
       "      <td>East</td>\n",
       "      <td>90193</td>\n",
       "      <td>760</td>\n",
       "      <td>38</td>\n",
       "      <td>11782</td>\n",
       "      <td>9</td>\n",
       "      <td>789</td>\n",
       "      <td>8.747907</td>\n",
       "    </tr>\n",
       "    <tr>\n",
       "      <th>2</th>\n",
       "      <td>Camberwell</td>\n",
       "      <td>South</td>\n",
       "      <td>54667</td>\n",
       "      <td>4342</td>\n",
       "      <td>4</td>\n",
       "      <td>6843</td>\n",
       "      <td>25</td>\n",
       "      <td>504</td>\n",
       "      <td>9.219456</td>\n",
       "    </tr>\n",
       "    <tr>\n",
       "      <th>3</th>\n",
       "      <td>Chelsea</td>\n",
       "      <td>West</td>\n",
       "      <td>56538</td>\n",
       "      <td>865</td>\n",
       "      <td>12</td>\n",
       "      <td>5648</td>\n",
       "      <td>29</td>\n",
       "      <td>247</td>\n",
       "      <td>4.368743</td>\n",
       "    </tr>\n",
       "    <tr>\n",
       "      <th>4</th>\n",
       "      <td>City of London</td>\n",
       "      <td>Central</td>\n",
       "      <td>55932</td>\n",
       "      <td>434</td>\n",
       "      <td>31</td>\n",
       "      <td>7921</td>\n",
       "      <td>117</td>\n",
       "      <td>207</td>\n",
       "      <td>3.700923</td>\n",
       "    </tr>\n",
       "  </tbody>\n",
       "</table>\n",
       "</div>"
      ],
      "text/plain": [
       "         district   region  population  area  elevation  number_houses  \\\n",
       "0      Bermondsey    South       48128   688          0           5674   \n",
       "1   Bethnal Green     East       90193   760         38          11782   \n",
       "2      Camberwell    South       54667  4342          4           6843   \n",
       "3         Chelsea     West       56538   865         12           5648   \n",
       "4  City of London  Central       55932   434         31           7921   \n",
       "\n",
       "   house_value_average  deaths  deaths_per_1000  \n",
       "0                   18     734        15.250997  \n",
       "1                    9     789         8.747907  \n",
       "2                   25     504         9.219456  \n",
       "3                   29     247         4.368743  \n",
       "4                  117     207         3.700923  "
      ]
     },
     "execution_count": 11,
     "metadata": {},
     "output_type": "execute_result"
    }
   ],
   "source": [
    "# Create a new column for mortality rates\n",
    "outbreak['deaths_per_1000'] = outbreak['deaths']/outbreak['population'] * 1000\n",
    "outbreak.head()"
   ]
  },
  {
   "attachments": {},
   "cell_type": "markdown",
   "id": "6fa1db32-b99e-4cf2-adbd-73721570c904",
   "metadata": {},
   "source": [
    "While there should be only one outcome variable, there can be multiple **explanatory variables**.\n",
    "\n",
    "Our job now is to explore explanatory variables that could potentially explain differences in mortality rate among the different disctricts. "
   ]
  },
  {
   "cell_type": "markdown",
   "id": "fca4cce5-6ab8-4d2c-926b-a8f3f3d89bab",
   "metadata": {},
   "source": [
    "### Is there a relationship between mortality and where people live?\n",
    "\n",
    "Use the `groupby()` function to average the mortality rates for each `region` of London."
   ]
  },
  {
   "cell_type": "code",
   "execution_count": 5,
   "id": "0bfe9808-61b8-4553-a7a9-d5b2b9f6ac0c",
   "metadata": {},
   "outputs": [
    {
     "data": {
      "text/plain": [
       "region\n",
       "Central     5.021616\n",
       "East        6.326963\n",
       "North       1.780560\n",
       "South      12.599687\n",
       "West        3.298961\n",
       "Name: deaths_per_1000, dtype: float64"
      ]
     },
     "execution_count": 5,
     "metadata": {},
     "output_type": "execute_result"
    }
   ],
   "source": [
    "outbreak.groupby('region')['deaths_per_1000'].mean()"
   ]
  },
  {
   "cell_type": "markdown",
   "id": "91f25c32",
   "metadata": {},
   "source": [
    "## Using Scatter Plots to Find Relationships\n",
    "\n",
    "Scatter plots are especially useful in enabling people to study the relationship between an outcome variable and an explanatory variable.\n",
    "\n",
    "**Make a scatter plot showing the relationship between a potential explanatory variable and the mortality rate.**"
   ]
  },
  {
   "cell_type": "code",
   "execution_count": 12,
   "id": "ce778dae",
   "metadata": {},
   "outputs": [
    {
     "data": {
      "image/png": "[encoded data removed]",
      "text/plain": [
       "<Figure size 432x288 with 1 Axes>"
      ]
     },
     "metadata": {
      "needs_background": "light"
     },
     "output_type": "display_data"
    }
   ],
   "source": [
    "x = outbreak['elevation']\n",
    "y = outbreak['deaths_per_1000']\n",
    "\n",
    "plt.xlabel('Elevation')\n",
    "plt.ylabel('Death Rate (per 1000)')\n",
    "\n",
    "plt.scatter(x, y)\n",
    "plt.show()"
   ]
  },
  {
   "cell_type": "markdown",
   "id": "2d99cb7e",
   "metadata": {},
   "source": [
    "### Continue Exploring\n",
    "\n",
    "Generate additional scatter plots for other explanatory variables or use the `.groupby()` function to compare groups.\n",
    "\n",
    "**Challenge Yourself: Develop new explanatory variables from the data you have.**"
   ]
  },
  {
   "cell_type": "code",
   "execution_count": null,
   "id": "5066c27e",
   "metadata": {},
   "outputs": [],
   "source": []
  },
  {
   "cell_type": "markdown",
   "id": "21371710-fe02-415a-879f-d40ccdfa4b1d",
   "metadata": {},
   "source": [
    "## 📓 Reflection 📓\n",
    "\n",
    "Did you notice any interesting or unexpected patterns in the data? What do you think they suggest, if anything?"
   ]
  },
  {
   "cell_type": "code",
   "execution_count": null,
   "id": "6014298d-992c-44bf-a5e0-387b3e391255",
   "metadata": {},
   "outputs": [],
   "source": []
  }
 ],
 "metadata": {
  "kernelspec": {
   "display_name": "Python 3 (ipykernel)",
   "language": "python",
   "name": "python3"
  },
  "language_info": {
   "codemirror_mode": {
    "name": "ipython",
    "version": 3
   },
   "file_extension": ".py",
   "mimetype": "text/x-python",
   "name": "python",
   "nbconvert_exporter": "python",
   "pygments_lexer": "ipython3",
   "version": "3.9.12"
  }
 },
 "nbformat": 4,
 "nbformat_minor": 5
}

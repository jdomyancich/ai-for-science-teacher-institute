{
 "cells": [
  {
   "cell_type": "markdown",
   "id": "b46ff266-d1ca-4bf8-8889-4b343faa5993",
   "metadata": {},
   "source": [
    "# Questioning and Hypothesizing Lyme Disease\n",
    "\n",
    "Lyme disease is a bacterial infection caused by Borrelia burgdorferi, primarily transmitted to humans through the bite of infected black-legged ticks, also known as deer ticks. First identified in Lyme, Connecticut, in 1975, it has since become the most common vector-borne disease in the United States. Ticks thrive in wooded and grassy areas, and while not all ticks carry the bacteria, their presence poses a significant risk.\n",
    "\n",
    "<img src = \"https://www.cdc.gov/ticks/media/images/ixodesscapularis_16-9.jpg\" width = 400>\n",
    "\n",
    "\n",
    "Symptoms of Lyme disease can vary but often include a characteristic \"bull's-eye\" rash (erythema migrans), fever, headache, and fatigue. If left untreated, the infection can spread to joints, the heart, and the nervous system, leading to more severe and chronic health issues. Early diagnosis and antibiotic treatment are crucial for a full recovery."
   ]
  },
  {
   "cell_type": "markdown",
   "id": "be10bf7d-2953-49d2-a3be-dd0fdbda79db",
   "metadata": {},
   "source": [
    "## Hypothesize\n",
    "\n",
    "Clearly define your hypothesis relating to the increase in lyme disease in the markdown cell below. Keep this as your \"north star\" in guiding your investigation."
   ]
  },
  {
   "cell_type": "markdown",
   "id": "cfd5a060-dc23-413b-b80c-5cb8f2fd24ea",
   "metadata": {},
   "source": []
  },
  {
   "cell_type": "markdown",
   "id": "dc40a535-2614-4fc6-bccb-13b2ad3f99ad",
   "metadata": {},
   "source": [
    "## The Data"
   ]
  },
  {
   "cell_type": "markdown",
   "id": "b628e019-15c9-423f-88c0-f4276e6d0ec6",
   "metadata": {},
   "source": [
    "There are several datasets related to ticks, lyme disease and explanatory variables related to the potential spread of this disease in the `data/lyme` folder.\n",
    "\n",
    "Since these data is in a subfolder of `data`, your import command should take the following form:\n",
    "\n",
    "`df = pd.read_csv(\"data/lyme/dataset_name.csv\")`\n",
    "\n",
    "Use Pandas to load in these datasets and explore the data.\n",
    "\n",
    "Do some initial exploration of these datasets and what information they contain. Not all datasets may be useful or relevant to your hypothesis but viewing will help in becoming aware of the many factors associated with the problem."
   ]
  },
  {
   "cell_type": "code",
   "execution_count": 1,
   "id": "e79f4174-08bc-486e-93b1-5e2f1a3cdf2b",
   "metadata": {},
   "outputs": [],
   "source": [
    "# Import Pandas and Matplotlib (and Numpy if you need it)\n",
    "\n"
   ]
  },
  {
   "cell_type": "code",
   "execution_count": 12,
   "id": "7ce7b438-5138-44a5-8315-4327bcd5f011",
   "metadata": {},
   "outputs": [],
   "source": [
    "# Load in the dataset\n"
   ]
  },
  {
   "cell_type": "code",
   "execution_count": null,
   "id": "ed7ab060-e174-4bff-8c8b-bfdd9a44c878",
   "metadata": {},
   "outputs": [],
   "source": []
  }
 ],
 "metadata": {
  "kernelspec": {
   "display_name": "Python 3 (ipykernel)",
   "language": "python",
   "name": "python3"
  },
  "language_info": {
   "codemirror_mode": {
    "name": "ipython",
    "version": 3
   },
   "file_extension": ".py",
   "mimetype": "text/x-python",
   "name": "python",
   "nbconvert_exporter": "python",
   "pygments_lexer": "ipython3",
   "version": "3.9.12"
  }
 },
 "nbformat": 4,
 "nbformat_minor": 5
}

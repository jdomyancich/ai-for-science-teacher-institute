{
 "cells": [
  {
   "cell_type": "markdown",
   "metadata": {},
   "source": [
    "# Does Homework Really Impact Achievement?\n",
    "\n",
    "What is the relationship between the amount of time students spend on homework and their academic achievement? We'll use a real-world dataset to explore this question and visualize our findings.\n",
    "\n",
    "The data for this investigation comes from the [Early Childhood Longitudinal Study, (ECLS)](https://nces.ed.gov/ecls/), a large-scale study conducted by the U.S. National Center for Education Statistics. This study tracks students from kindergarten through elementary school, collecting rich information about their development, learning experiences, and family backgrounds. Our subset of this data includes details on student demographics, homework habits, and standardized achievement scores in subjects like math and reading."
   ]
  },
  {
   "cell_type": "markdown",
   "metadata": {},
   "source": [
    "## Data Loading and Initial Exploration\n",
    "\n",
    "1. Import the necessary libraries:\n",
    "- Pandas\n",
    "- Matplotlib\n",
    "\n",
    "2. The data is contained in the `ecls_homework_dataset.csv` file in the `data` folder. Read it in as a dataframe named `ecls`.\n",
    "\n",
    "3.  Verify that the data is loaded by printing the first few lines of the dataframe."
   ]
  },
  {
   "cell_type": "code",
   "execution_count": null,
   "metadata": {},
   "outputs": [],
   "source": []
  },
  {
   "cell_type": "markdown",
   "metadata": {},
   "source": [
    "### Dataset Key\n",
    "\n",
    "- `student_id`: A unique identifier for each student in the dataset.\n",
    "\n",
    "- `grade`: The student's grade level, numerically coded (e.g., 0 for Kindergarten, 1 for 1st Grade, 2 for 2nd Grade).\n",
    "\n",
    "- `ses_level`: Socioeconomic status level of the student's family (specific categories for this variable are not detailed in this dataset snippet, but it generally indicates economic background).\n",
    "\n",
    "- `homework_category`: A categorical representation of homework time assigned or completed. The original values were mapped as follows (though the homework_minutes column already contains the converted numeric values):\n",
    "\n",
    "  - `1`: No homework assigned\n",
    "  - `2`: Less than 30 minutes\n",
    "  - `3`: 30-60 minutes\n",
    "  - `4`: 1-2 hours\n",
    "  - `5`: More than 2 hours\n",
    "\n",
    "`homework_minutes`: The numeric conversion of homework time in minutes per day, derived from homework_category.\n",
    "\n",
    "`math_score`: The student's achievement score in Math.\n",
    "\n",
    "`reading_score`: The student's achievement score in Reading.\n",
    "\n",
    "`grade_label`: A categorical label for the student's grade (e.g., 'Kindergarten', '1st Grade', '2nd Grade').\n",
    "\n",
    "`homework_label`: A categorical label for the homework time (e.g., 'No homework', 'Less than 30 min')."
   ]
  },
  {
   "cell_type": "markdown",
   "metadata": {},
   "source": [
    "Quickly explore the data using some of the dataframe methods. Some questions you could answer are:\n",
    "- How big is the dataset?\n",
    "- What are the summary statistics?"
   ]
  },
  {
   "cell_type": "code",
   "execution_count": null,
   "metadata": {},
   "outputs": [],
   "source": []
  },
  {
   "cell_type": "code",
   "execution_count": null,
   "metadata": {},
   "outputs": [],
   "source": []
  },
  {
   "cell_type": "markdown",
   "metadata": {},
   "source": [
    "Let's start focusing on one grade level at a time:\n",
    "\n",
    "1. Create a new dataframe that contains data only for students in Kindergarten (Grade 0) called `kinder`. *Hint: remember to set a condition first.*\n",
    "\n",
    "2. After filtering, use the `.describe()` method to get a quick statistical summary of this specific grade's data."
   ]
  },
  {
   "cell_type": "code",
   "execution_count": null,
   "metadata": {},
   "outputs": [],
   "source": []
  },
  {
   "cell_type": "markdown",
   "metadata": {},
   "source": [
    "Now that you have isolated the data for Kindergarten students, let's explore their average math scores based on the different homework categories. This will give you insights into how much homework time is associated with math achievement within this specific grade.\n",
    "\n",
    "**Use the `.groupby()` method to group the `kinder` dataframe by homework_category, and then calculate the .mean() `math_score` and `reading_score` for each group.**"
   ]
  },
  {
   "cell_type": "code",
   "execution_count": null,
   "metadata": {},
   "outputs": [],
   "source": []
  },
  {
   "cell_type": "code",
   "execution_count": null,
   "metadata": {},
   "outputs": [],
   "source": []
  },
  {
   "cell_type": "markdown",
   "metadata": {},
   "source": [
    "**Repeat this analysis of math and reading scores for some of the other grades.**"
   ]
  },
  {
   "cell_type": "code",
   "execution_count": null,
   "metadata": {},
   "outputs": [],
   "source": []
  },
  {
   "cell_type": "code",
   "execution_count": null,
   "metadata": {},
   "outputs": [],
   "source": []
  },
  {
   "cell_type": "markdown",
   "metadata": {},
   "source": [
    "## 📓 Reflection 📓\n",
    "\n",
    "After seeing the data, do you think homework impacts student achievement? What questions do you still have that the data could potentially answer?"
   ]
  },
  {
   "cell_type": "markdown",
   "metadata": {},
   "source": []
  },
  {
   "cell_type": "markdown",
   "metadata": {
    "jp-MarkdownHeadingCollapsed": true
   },
   "source": [
    "## Supplementary: Visualization of the Results\n",
    "\n",
    "This code creates a clear bar plot showing the average math achievement for each homework category within the grade you selected. This simplified visualization, focusing on one grade at a time, makes it easier to compare the patterns and average scores directly across different grade levels when you run the analysis for each one.\n",
    "\n",
    "**Just run the next cell.**"
   ]
  },
  {
   "cell_type": "code",
   "execution_count": null,
   "metadata": {},
   "outputs": [],
   "source": [
    "import seaborn as sns\n",
    "\n",
    "mean_math_scores_all_grades = ecls.groupby(['grade_label', 'homework_label']).agg(\n",
    "    homework_minutes=('homework_minutes', 'first'), # Keep one homework_minutes for sorting\n",
    "    math_score=('math_score', 'mean')\n",
    ").sort_values(by=['grade_label', 'homework_minutes']).reset_index()\n",
    "\n",
    "\n",
    "# Step 4: Visualize Mean Math Scores by Homework Category for All Grades in a Single Image\n",
    "# Use seaborn.catplot to create a grid of bar plots, one for each grade.\n",
    "# 'col=\"grade_label\"' creates separate columns (facets) for each unique grade.\n",
    "g = sns.catplot(\n",
    "    data=mean_math_scores_all_grades,\n",
    "    x='homework_label',\n",
    "    y='math_score',\n",
    "    col='grade_label',\n",
    "    kind='bar',\n",
    "    col_wrap=3, # Adjust to wrap plots into rows if many grades\n",
    "    height=4, aspect=1.2, # Adjust size of each facet\n",
    "    palette='viridis',\n",
    "    sharey=True # Share the Y-axis across all plots for easier comparison\n",
    ")\n",
    "\n",
    "# Set common labels and titles\n",
    "g.set_axis_labels('Homework Time Category', 'Average Math Achievement Score')\n",
    "g.set_titles('Grade: {col_name}')\n",
    "g.fig.suptitle('Average Math Achievement Scores by Homework Category Across Grades', y=1.02, fontsize=16) # Title for the entire figure\n",
    "\n",
    "# Rotate x-axis labels for readability in each subplot\n",
    "for ax in g.axes.flat:\n",
    "    for label in ax.get_xticklabels():\n",
    "        label.set_rotation(45)\n",
    "        label.set_horizontalalignment('right')\n",
    "\n",
    "plt.tight_layout(rect=[0, 0.03, 1, 0.98]) # Adjust layout to prevent suptitle overlap and labels clipping\n",
    "plt.show()"
   ]
  },
  {
   "cell_type": "markdown",
   "metadata": {
    "jp-MarkdownHeadingCollapsed": true
   },
   "source": [
    "## Supplementary Material: A Statistical Test\n",
    "\n",
    "This code snippet below calculates the Pearson correlation coefficient (`r`) between `homework_minutes` and `math_score` in your `ecls` dataframe. The correlation coefficient (`r`) quantifies the linear relationship between these two variables. A positive `r` indicates that as one variable increases, the other tends to increase, while a negative `r` suggests that as one increases, the other tends to decrease. A value close to zero means there's a weak or no linear relationship.\n"
   ]
  },
  {
   "cell_type": "code",
   "execution_count": null,
   "metadata": {},
   "outputs": [],
   "source": [
    "correlation = ecls['homework_minutes'].corr(ecls['math_score'])\n",
    "print(f\"Homework vs Math Achievement: r = {correlation:.3f}\")"
   ]
  }
 ],
 "metadata": {
  "kernelspec": {
   "display_name": "Python 3 (ipykernel)",
   "language": "python",
   "name": "python3"
  },
  "language_info": {
   "codemirror_mode": {
    "name": "ipython",
    "version": 3
   },
   "file_extension": ".py",
   "mimetype": "text/x-python",
   "name": "python",
   "nbconvert_exporter": "python",
   "pygments_lexer": "ipython3",
   "version": "3.9.12"
  }
 },
 "nbformat": 4,
 "nbformat_minor": 4
}
